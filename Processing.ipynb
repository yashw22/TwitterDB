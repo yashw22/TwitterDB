{
 "cells": [
  {
   "cell_type": "code",
   "execution_count": 1,
   "id": "fec199ce",
   "metadata": {},
   "outputs": [],
   "source": [
    "import json\n",
    "from datetime import datetime\n",
    "\n",
    "\n",
    "filename = './corona-out-2'\n",
    "# filename = './corona-out-3'"
   ]
  },
  {
   "cell_type": "code",
   "execution_count": 2,
   "id": "5c4a2fc7",
   "metadata": {},
   "outputs": [],
   "source": [
    "def to_timestamp(val):\n",
    "    dt = val.split(' ')\n",
    "    st = f\"{dt[5]}-{dt[1]}-{dt[2]} {dt[3]}\"\n",
    "    dt = datetime.strptime(st, \"%Y-%b-%d %H:%M:%S\")\n",
    "    return int(dt.timestamp())\n",
    "\n",
    "def to_dtstring(val):\n",
    "    return datetime.fromtimestamp(val).strftime('%b %d, %Y - %X')\n",
    "\n",
    "def get_hashtags(data):\n",
    "    hashtags = []\n",
    "    for item in data:\n",
    "        hashtags.append(item['text'])\n",
    "    return hashtags"
   ]
  },
  {
   "cell_type": "code",
   "execution_count": 3,
   "id": "814079d5",
   "metadata": {},
   "outputs": [],
   "source": [
    "# def add_user(user):\n",
    "#     if (user['id'] not in users):\n",
    "#         users[user['id']] = user\n",
    "\n",
    "# def add_tweet(tweet, tweet_type):\n",
    "#     if tweet_type=='tweet':\n",
    "#         if tweet['id'] not in tweets:\n",
    "#             tweets[tweet['id']] = tweet\n",
    "#     elif tweet_type=='retweet':\n",
    "#         if tweet['id'] not in retweets:\n",
    "#             retweets[tweet['id']] = tweet\n",
    "\n",
    "# def add_retweet(retweet):\n",
    "#     if (retweet['id'] not in retweets):\n",
    "#         retweets[retweet['id']] = retweet\n",
    "\n",
    "def add_user(user):\n",
    "    if (user['id'] not in users):\n",
    "        new_user = {}\n",
    "        \n",
    "        new_user['id'] = user['id']\n",
    "        new_user['name'] = user['name']\n",
    "        new_user['screen_name'] = user['screen_name']\n",
    "        new_user['location'] = user['location']\n",
    "        new_user['url'] = user['url']\n",
    "        new_user['description'] = user['description']\n",
    "        new_user['verified'] = user['verified']\n",
    "        new_user['followers_count'] = user['followers_count']\n",
    "        new_user['friends_count'] = user['friends_count']\n",
    "        new_user['listed_count'] = user['listed_count']\n",
    "        new_user['favourites_count'] = user['favourites_count']\n",
    "        new_user['statuses_count'] = user['statuses_count']\n",
    "        new_user['created_at'] = to_timestamp(user['created_at'])\n",
    "        \n",
    "        users[user['id']] = new_user\n",
    "\n",
    "\n",
    "def process_tweet(tweet):\n",
    "    new_tweet = {}\n",
    "        \n",
    "    new_tweet['created_at'] = to_timestamp(tweet['created_at'])\n",
    "    new_tweet['id'] = tweet['id']\n",
    "    if tweet['truncated']:\n",
    "        new_tweet['text'] = tweet['extended_tweet']['full_text']\n",
    "        new_tweet['hashtags'] = get_hashtags(tweet['extended_tweet']['entities']['hashtags'])\n",
    "    else:\n",
    "        new_tweet['text'] = tweet['text']\n",
    "        new_tweet['hashtags'] = get_hashtags(tweet['entities']['hashtags'])\n",
    "\n",
    "    user = {}\n",
    "    user['id'] = tweet['user']['id']\n",
    "    user['name'] = tweet['user']['name']\n",
    "    user['screen_name'] = tweet['user']['screen_name']\n",
    "    user['verified'] = tweet['user']['verified']\n",
    "#     modified\n",
    "    user['friends_count'] = tweet['user']['friends_count']\n",
    "    user['followers_count'] = tweet['user']['followers_count']\n",
    "    user['description'] = tweet['user']['description']\n",
    "    user['created_at'] = tweet['user']['created_at']\n",
    "\n",
    "    new_tweet['user'] = user\n",
    "\n",
    "    new_tweet['source'] = tweet['source']\n",
    "    new_tweet['quote_count'] = tweet['quote_count']\n",
    "    new_tweet['reply_count'] = tweet['reply_count']\n",
    "    new_tweet['retweet_count'] = tweet['retweet_count']\n",
    "    new_tweet['favorite_count'] = tweet['favorite_count']\n",
    "    \n",
    "    if 'retweeted_status' in tweet:\n",
    "        new_tweet['retweeted_status'] = process_tweet(tweet['retweeted_status'])\n",
    "        \n",
    "    new_tweet['is_quote_status'] = tweet['is_quote_status']\n",
    "    if tweet['is_quote_status'] and 'quoted_status' in tweet:\n",
    "        new_tweet['quoted_status'] = process_tweet(tweet['quoted_status'])\n",
    "    \n",
    "    return new_tweet\n",
    "        \n",
    "def add_tweet(tweet, tweet_type):\n",
    "    if (tweet['id'] not in tweets):\n",
    "        \n",
    "        new_tweet = process_tweet(tweet)\n",
    "        \n",
    "        if tweet_type=='tweet':\n",
    "            tweets[tweet['id']] = new_tweet\n",
    "        elif tweet_type=='retweet':\n",
    "            retweets[tweet['id']] = new_tweet\n",
    "        elif tweet_type=='quote':\n",
    "            quotes[tweet['id']] = new_tweet"
   ]
  },
  {
   "cell_type": "code",
   "execution_count": 4,
   "id": "ddcc531d",
   "metadata": {},
   "outputs": [],
   "source": [
    "def process_data(data):\n",
    "    if data['id'] in tweets:\n",
    "        return\n",
    "    \n",
    "    add_user(data['user'])\n",
    "\n",
    "    if data['text'].startswith('RT'):\n",
    "        add_tweet(data, 'retweet')\n",
    "        if 'retweeted_status' in data:\n",
    "            process_data(data['retweeted_status'])\n",
    "\n",
    "    else:\n",
    "        add_tweet(data, 'tweet')"
   ]
  },
  {
   "cell_type": "code",
   "execution_count": 5,
   "id": "1bce4acd",
   "metadata": {},
   "outputs": [],
   "source": [
    "users = {}\n",
    "tweets = {}\n",
    "retweets = {}\n",
    "quotes = {}\n",
    "\n",
    "for line in open(filename, 'r'):\n",
    "    if len(line.strip()) == 0:\n",
    "        continue\n",
    "        \n",
    "#     try:\n",
    "    data = json.loads(line)\n",
    "    process_data(data)\n",
    "\n",
    "#     except:\n",
    "#         continue"
   ]
  },
  {
   "cell_type": "code",
   "execution_count": null,
   "id": "22bf9861",
   "metadata": {},
   "outputs": [],
   "source": [
    "# (7349, 11157, 15505)\n",
    "# (10987, 11157, 18461)\n",
    "\n",
    "len(tweets), len(retweets), len(users), len(quotes)"
   ]
  },
  {
   "cell_type": "code",
   "execution_count": null,
   "id": "a3ce8889",
   "metadata": {},
   "outputs": [],
   "source": []
  },
  {
   "cell_type": "code",
   "execution_count": null,
   "id": "5aa5d43a",
   "metadata": {},
   "outputs": [],
   "source": []
  },
  {
   "cell_type": "code",
   "execution_count": null,
   "id": "82f90c15",
   "metadata": {},
   "outputs": [],
   "source": []
  },
  {
   "cell_type": "code",
   "execution_count": null,
   "id": "48c6810e",
   "metadata": {},
   "outputs": [],
   "source": []
  },
  {
   "cell_type": "code",
   "execution_count": null,
   "id": "50f8ca05",
   "metadata": {
    "scrolled": true
   },
   "outputs": [],
   "source": [
    "idxs = list(retweets.keys())\n",
    "\n",
    "i = 0\n",
    "for idx in idxs:\n",
    "    if i==10: break\n",
    "    print(retweets[idx]['text'])\n",
    "    print(retweets[idx]['retweeted_status']['text'])\n",
    "    print()\n",
    "    i+=1"
   ]
  },
  {
   "cell_type": "code",
   "execution_count": null,
   "id": "86ffdd5a",
   "metadata": {
    "scrolled": true
   },
   "outputs": [],
   "source": [
    "retweets[idxs[1]]"
   ]
  },
  {
   "cell_type": "code",
   "execution_count": null,
   "id": "3def44aa",
   "metadata": {},
   "outputs": [],
   "source": [
    "retweets[idxs[0]].keys()"
   ]
  },
  {
   "cell_type": "code",
   "execution_count": null,
   "id": "d5776f2e",
   "metadata": {},
   "outputs": [],
   "source": []
  },
  {
   "cell_type": "code",
   "execution_count": null,
   "id": "b14d2701",
   "metadata": {},
   "outputs": [],
   "source": []
  },
  {
   "cell_type": "code",
   "execution_count": null,
   "id": "458bc3fb",
   "metadata": {
    "scrolled": true
   },
   "outputs": [],
   "source": [
    "idxs = list(tweets.keys())\n",
    "\n",
    "ls = []\n",
    "\n",
    "i = 0\n",
    "for idx in idxs:\n",
    "    if i==10: break\n",
    "    print(tweets[idx])\n",
    "    ls.append(tweets[idx])\n",
    "    print()\n",
    "    i+=1"
   ]
  },
  {
   "cell_type": "code",
   "execution_count": null,
   "id": "03e4e48e",
   "metadata": {},
   "outputs": [],
   "source": [
    "print(ls)"
   ]
  },
  {
   "cell_type": "code",
   "execution_count": null,
   "id": "0804acbf",
   "metadata": {},
   "outputs": [],
   "source": [
    "tweets[idxs[0]]"
   ]
  },
  {
   "cell_type": "code",
   "execution_count": null,
   "id": "9bf08138",
   "metadata": {},
   "outputs": [],
   "source": [
    "tweets[idxs[1]].keys()"
   ]
  },
  {
   "cell_type": "code",
   "execution_count": null,
   "id": "039c3e0b",
   "metadata": {},
   "outputs": [],
   "source": []
  },
  {
   "cell_type": "code",
   "execution_count": null,
   "id": "bac23743",
   "metadata": {},
   "outputs": [],
   "source": [
    "ids = list(users.keys())\n",
    "\n",
    "users[ids[0]]"
   ]
  },
  {
   "cell_type": "code",
   "execution_count": null,
   "id": "65b0a306",
   "metadata": {},
   "outputs": [],
   "source": []
  }
 ],
 "metadata": {
  "kernelspec": {
   "display_name": "Python 3 (ipykernel)",
   "language": "python",
   "name": "python3"
  },
  "language_info": {
   "codemirror_mode": {
    "name": "ipython",
    "version": 3
   },
   "file_extension": ".py",
   "mimetype": "text/x-python",
   "name": "python",
   "nbconvert_exporter": "python",
   "pygments_lexer": "ipython3",
   "version": "3.10.9"
  }
 },
 "nbformat": 4,
 "nbformat_minor": 5
}
