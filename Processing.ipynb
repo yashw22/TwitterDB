{
 "cells": [
  {
   "cell_type": "code",
   "execution_count": 6,
   "id": "fec199ce",
   "metadata": {},
   "outputs": [],
   "source": [
    "import json\n",
    "from datetime import datetime\n",
    "\n",
    "\n",
    "# filename = './../corona-out-2'\n",
    "filename = './../corona-out-3'"
   ]
  },
  {
   "cell_type": "code",
   "execution_count": 7,
   "id": "5c4a2fc7",
   "metadata": {},
   "outputs": [],
   "source": [
    "def to_timestamp(val):\n",
    "    dt = val.split(' ')\n",
    "    st = f\"{dt[5]}-{dt[1]}-{dt[2]} {dt[3]}\"\n",
    "    dt = datetime.strptime(st, \"%Y-%b-%d %H:%M:%S\")\n",
    "    return int(dt.timestamp())\n",
    "\n",
    "def to_dtstring(val):\n",
    "    return datetime.fromtimestamp(val).strftime('%b %d, %Y - %X')\n",
    "\n",
    "def get_hashtags(data):\n",
    "    hashtags = []\n",
    "    for item in data:\n",
    "        hashtags.append(item['text'])\n",
    "    return hashtags"
   ]
  },
  {
   "cell_type": "code",
   "execution_count": 8,
   "id": "814079d5",
   "metadata": {},
   "outputs": [],
   "source": [
    "# def add_user(user):\n",
    "#     if (user['id'] not in users):\n",
    "#         users[user['id']] = user\n",
    "\n",
    "# def add_tweet(tweet, tweet_type):\n",
    "#     if tweet_type=='tweet':\n",
    "#         if tweet['id'] not in tweets:\n",
    "#             tweets[tweet['id']] = tweet\n",
    "#     elif tweet_type=='retweet':\n",
    "#         if tweet['id'] not in retweets:\n",
    "#             retweets[tweet['id']] = tweet\n",
    "\n",
    "# def add_retweet(retweet):\n",
    "#     if (retweet['id'] not in retweets):\n",
    "#         retweets[retweet['id']] = retweet\n",
    "\n",
    "def add_user(user):\n",
    "    if (user['id'] not in users):\n",
    "        new_user = {}\n",
    "        \n",
    "        new_user['id'] = user['id']\n",
    "        new_user['name'] = user['name']\n",
    "        new_user['screen_name'] = user['screen_name']\n",
    "        new_user['location'] = user['location']\n",
    "        new_user['url'] = user['url']\n",
    "        new_user['description'] = user['description']\n",
    "        new_user['verified'] = user['verified']\n",
    "        new_user['followers_count'] = user['followers_count']\n",
    "        new_user['friends_count'] = user['friends_count']\n",
    "        new_user['listed_count'] = user['listed_count']\n",
    "        new_user['favourites_count'] = user['favourites_count']\n",
    "        new_user['statuses_count'] = user['statuses_count']\n",
    "        new_user['created_at'] = to_timestamp(user['created_at'])\n",
    "        \n",
    "        users[user['id']] = new_user\n",
    "\n",
    "\n",
    "def process_tweet(tweet):\n",
    "    new_tweet = {}\n",
    "        \n",
    "    new_tweet['created_at'] = to_timestamp(tweet['created_at'])\n",
    "    new_tweet['id'] = tweet['id']\n",
    "    if tweet['truncated']:\n",
    "        new_tweet['text'] = tweet['extended_tweet']['full_text']\n",
    "        new_tweet['hashtags'] = get_hashtags(tweet['extended_tweet']['entities']['hashtags'])\n",
    "    else:\n",
    "        new_tweet['text'] = tweet['text']\n",
    "        new_tweet['hashtags'] = get_hashtags(tweet['entities']['hashtags'])\n",
    "\n",
    "    user = {}\n",
    "    user['id'] = tweet['user']['id']\n",
    "    user['name'] = tweet['user']['name']\n",
    "    user['screen_name'] = tweet['user']['screen_name']\n",
    "    user['verified'] = tweet['user']['verified']\n",
    "    new_tweet['user'] = user\n",
    "\n",
    "    new_tweet['source'] = tweet['source']\n",
    "    new_tweet['quote_count'] = tweet['quote_count']\n",
    "    new_tweet['reply_count'] = tweet['reply_count']\n",
    "    new_tweet['retweet_count'] = tweet['retweet_count']\n",
    "    new_tweet['favorite_count'] = tweet['favorite_count']\n",
    "    \n",
    "    if 'retweeted_status' in tweet:\n",
    "        new_tweet['retweeted_status'] = process_tweet(tweet['retweeted_status'])\n",
    "        \n",
    "    new_tweet['is_quote_status'] = tweet['is_quote_status']\n",
    "    if tweet['is_quote_status'] and 'quoted_status' in tweet:\n",
    "        new_tweet['quoted_status'] = process_tweet(tweet['quoted_status'])\n",
    "    \n",
    "    return new_tweet\n",
    "        \n",
    "def add_tweet(tweet, tweet_type):\n",
    "    if (tweet['id'] not in tweets):\n",
    "        \n",
    "        new_tweet = process_tweet(tweet)\n",
    "        \n",
    "        if tweet_type=='tweet':\n",
    "            tweets[tweet['id']] = new_tweet\n",
    "        elif tweet_type=='retweet':\n",
    "            retweets[tweet['id']] = new_tweet\n",
    "        elif tweet_type=='quote':\n",
    "            quotes[tweet['id']] = new_tweet"
   ]
  },
  {
   "cell_type": "code",
   "execution_count": 9,
   "id": "ddcc531d",
   "metadata": {},
   "outputs": [],
   "source": [
    "def process_data(data):\n",
    "    if data['id'] in tweets:\n",
    "        return\n",
    "    \n",
    "    add_user(data['user'])\n",
    "\n",
    "    if data['text'].startswith('RT'):\n",
    "        add_tweet(data, 'retweet')\n",
    "        if 'retweeted_status' in data:\n",
    "            process_data(data['retweeted_status'])\n",
    "\n",
    "    else:\n",
    "        add_tweet(data, 'tweet')"
   ]
  },
  {
   "cell_type": "code",
   "execution_count": 10,
   "id": "1bce4acd",
   "metadata": {},
   "outputs": [],
   "source": [
    "users = {}\n",
    "tweets = {}\n",
    "retweets = {}\n",
    "quotes = {}\n",
    "\n",
    "for line in open(filename, 'r'):\n",
    "    if len(line.strip()) == 0:\n",
    "        continue\n",
    "        \n",
    "#     try:\n",
    "    data = json.loads(line)\n",
    "    process_data(data)\n",
    "\n",
    "#     except:\n",
    "#         continue"
   ]
  },
  {
   "cell_type": "code",
   "execution_count": 11,
   "id": "22bf9861",
   "metadata": {},
   "outputs": [
    {
     "data": {
      "text/plain": [
       "(50915, 61108, 88068, 0)"
      ]
     },
     "execution_count": 11,
     "metadata": {},
     "output_type": "execute_result"
    }
   ],
   "source": [
    "# (7349, 11157, 15505)\n",
    "# (10987, 11157, 18461)\n",
    "\n",
    "len(tweets), len(retweets), len(users), len(quotes)"
   ]
  },
  {
   "cell_type": "code",
   "execution_count": null,
   "id": "a3ce8889",
   "metadata": {},
   "outputs": [],
   "source": []
  },
  {
   "cell_type": "code",
   "execution_count": null,
   "id": "5aa5d43a",
   "metadata": {},
   "outputs": [],
   "source": []
  },
  {
   "cell_type": "code",
   "execution_count": null,
   "id": "82f90c15",
   "metadata": {},
   "outputs": [],
   "source": []
  },
  {
   "cell_type": "code",
   "execution_count": null,
   "id": "48c6810e",
   "metadata": {},
   "outputs": [],
   "source": []
  },
  {
   "cell_type": "code",
   "execution_count": 12,
   "id": "50f8ca05",
   "metadata": {
    "scrolled": true
   },
   "outputs": [
    {
     "name": "stdout",
     "output_type": "stream",
     "text": [
      "RT @BJP4India: India’s war with Corona is ongoing.\n",
      "\n",
      "Play your part and make sure no one around you starves.\n",
      "\n",
      "Your contribution to defeat hu…\n",
      "India’s war with Corona is ongoing.\n",
      "\n",
      "Play your part and make sure no one around you starves.\n",
      "\n",
      "Your contribution to defeat hunger is as valuable as defeating Corona.\n",
      "\n",
      "#FeedTheNeedy https://t.co/TUWf2nqPgZ\n",
      "\n",
      "RT @schrodingerk42: @ozkan_yalim @DurmusYillmaz \n",
      "Açık kapalı görüşler yasak olduğu için sadece telefon görüşlerinde kendisinden haber alabi…\n",
      "@ozkan_yalim @DurmusYillmaz \n",
      "Açık kapalı görüşler yasak olduğu için sadece telefon görüşlerinde kendisinden haber alabiliyoruz ancak ameliyat olduktan sonraki hafta telefon görüşünde kendisi aramadı.Corona endişesinin olduğu şu günlerde kendisinden haber alabilmek için haftasonu+\n",
      "\n",
      "RT @MonstaXEurope: VIDEO | 25.04.20\n",
      "\n",
      "&gt; Monsta X appears on Yonhap News TV - Idol comeback through Corona... Turning on the Music industry.…\n",
      "VIDEO | 25.04.20\n",
      "\n",
      "&gt; Monsta X appears on Yonhap News TV - Idol comeback through Corona... Turning on the Music industry.\n",
      "\n",
      "🔗https://t.co/kW5hsP5DeD\n",
      "\n",
      "#몬스타엑스 #MONSTAX\n",
      "#판타지아엑스 #FANTASIA_X\n",
      "@OfficialMonstaX\n",
      "\n",
      "https://t.co/tJN4Iyv1Gh https://t.co/GukJXWjaPW\n",
      "\n",
      "RT @gustinicchi: Morti COL Corona non PER il Corona.\n",
      "\n",
      "CONTE PER OTTENERE APPOGGIO VDL AL GOLPE DI AGOSTO 2019 HA CONSEGNATO (MANI E PIEDI)…\n",
      "Morti COL Corona non PER il Corona.\n",
      "\n",
      "CONTE PER OTTENERE APPOGGIO VDL AL GOLPE DI AGOSTO 2019 HA CONSEGNATO (MANI E PIEDI) L'ITALIA ALL'OMS, CIOÈ A BILL GATE, CIOÈ AL BILDEBERG, CIOÈ A SOROS, CIOÈ ALLA TRINITÀ TALMUDICA CHE REGGE IL DEEP STATE GLOBALISTA. https://t.co/AzJPFPGXwY\n",
      "\n",
      "RT @PawanKalyan: Sri ByReddy Rajasekhar Reddy garu,a leader,who is truly dedicated to the betterment of Rayalaseema region (now joined in B…\n",
      "Sri ByReddy Rajasekhar Reddy garu,a leader,who is truly dedicated to the betterment of Rayalaseema region (now joined in BJP)expressed his concerns to me ,through a letter,about the district &amp; State administration’s failure in controlling Corona Pandemic.\n",
      "\n",
      "RT @cloudseokjinie: tony montana yoongi live #kpop trump bp lisa dance soojin taekook fancam au ateez jennie jisoo twice comeback dream sup…\n",
      "tony montana yoongi live #kpop trump bp lisa dance soojin taekook fancam au ateez jennie jisoo twice comeback dream superm sm rt ifb oomf corona virus quarantine ariana grande gay vmin jungkook jimin taehyung drop fancam spam views gain mutuals nct mark https://t.co/3a2zoAAEAz\n",
      "\n",
      "RT @evangelisch_de: Der Berliner Landesonlinepfarrer spricht im Interview über die Möglichkeiten der #Digitalisierung auch in Nicht-Corona-…\n",
      "Der Berliner Landesonlinepfarrer spricht im Interview über die Möglichkeiten der #Digitalisierung auch in Nicht-Corona-Zeiten. @ekbo_de https://t.co/fjx2zcoRpz\n",
      "\n",
      "RT @Quirinale: #25Aprile, nel 75° anniversario della #Liberazione il Presidente #Mattarella ha deposto una corona all’Altare della Patria e…\n",
      "#25Aprile, nel 75° anniversario della #Liberazione il Presidente #Mattarella ha deposto una corona all’Altare della Patria e ha scritto questo messaggio: https://t.co/bsRPrkIN7s https://t.co/EQaoInpE1W\n",
      "\n",
      "RT @fr: Die Grünen haben eine Idee, wie man Wirtschaft und Einzelhandel in der #Corona-Krise wieder ankurbeln könnte. Der News-Ticker zur W…\n",
      "Die Grünen haben eine Idee, wie man Wirtschaft und Einzelhandel in der #Corona-Krise wieder ankurbeln könnte. Der News-Ticker zur Wirtschaft. #coronavirusdeutschland #Coronakrise  https://t.co/oeRCjaqiFd\n",
      "\n",
      "RT @PartaiSocmed: Lockdown ada yg berhasil dan ada yg tidak berhasil. Yg berhasil adalah negara2 yg cepat melakukan lockdown di fase awal w…\n",
      "Lockdown ada yg berhasil dan ada yg tidak berhasil. Yg berhasil adalah negara2 yg cepat melakukan lockdown di fase awal wabah corona ini, sedangkan yg gagal adalah negara2 yg baru lakukan lockdown setelah wabah menyebar alias terlambat. \n",
      "\n",
      "Kunci keberhasilan lockdown ada di waktu\n",
      "\n"
     ]
    }
   ],
   "source": [
    "idxs = list(retweets.keys())\n",
    "\n",
    "i = 0\n",
    "for idx in idxs:\n",
    "    if i==10: break\n",
    "    print(retweets[idx]['text'])\n",
    "    print(retweets[idx]['retweeted_status']['text'])\n",
    "    print()\n",
    "    i+=1"
   ]
  },
  {
   "cell_type": "code",
   "execution_count": 13,
   "id": "86ffdd5a",
   "metadata": {
    "scrolled": true
   },
   "outputs": [
    {
     "data": {
      "text/plain": [
       "{'created_at': 1587831702,\n",
       " 'id': 1254022772877131777,\n",
       " 'text': 'RT @schrodingerk42: @ozkan_yalim @DurmusYillmaz \\nAçık kapalı görüşler yasak olduğu için sadece telefon görüşlerinde kendisinden haber alabi…',\n",
       " 'hashtags': [],\n",
       " 'user': {'id': 1206650133976408064,\n",
       "  'name': 'Büşra Öztaş',\n",
       "  'screen_name': 'schrodingerk42',\n",
       "  'verified': False},\n",
       " 'source': '<a href=\"http://twitter.com/download/android\" rel=\"nofollow\">Twitter for Android</a>',\n",
       " 'quote_count': 0,\n",
       " 'reply_count': 0,\n",
       " 'retweet_count': 0,\n",
       " 'favorite_count': 0,\n",
       " 'retweeted_status': {'created_at': 1587486840,\n",
       "  'id': 1252576316135739392,\n",
       "  'text': '@ozkan_yalim @DurmusYillmaz \\nAçık kapalı görüşler yasak olduğu için sadece telefon görüşlerinde kendisinden haber alabiliyoruz ancak ameliyat olduktan sonraki hafta telefon görüşünde kendisi aramadı.Corona endişesinin olduğu şu günlerde kendisinden haber alabilmek için haftasonu+',\n",
       "  'hashtags': [],\n",
       "  'user': {'id': 1206650133976408064,\n",
       "   'name': 'Büşra Öztaş',\n",
       "   'screen_name': 'schrodingerk42',\n",
       "   'verified': False},\n",
       "  'source': '<a href=\"http://twitter.com/download/android\" rel=\"nofollow\">Twitter for Android</a>',\n",
       "  'quote_count': 1,\n",
       "  'reply_count': 1,\n",
       "  'retweet_count': 72,\n",
       "  'favorite_count': 83,\n",
       "  'is_quote_status': False},\n",
       " 'is_quote_status': False}"
      ]
     },
     "execution_count": 13,
     "metadata": {},
     "output_type": "execute_result"
    }
   ],
   "source": [
    "retweets[idxs[1]]"
   ]
  },
  {
   "cell_type": "code",
   "execution_count": 14,
   "id": "3def44aa",
   "metadata": {},
   "outputs": [
    {
     "data": {
      "text/plain": [
       "dict_keys(['created_at', 'id', 'text', 'hashtags', 'user', 'source', 'quote_count', 'reply_count', 'retweet_count', 'favorite_count', 'retweeted_status', 'is_quote_status'])"
      ]
     },
     "execution_count": 14,
     "metadata": {},
     "output_type": "execute_result"
    }
   ],
   "source": [
    "retweets[idxs[0]].keys()"
   ]
  },
  {
   "cell_type": "code",
   "execution_count": null,
   "id": "d5776f2e",
   "metadata": {},
   "outputs": [],
   "source": []
  },
  {
   "cell_type": "code",
   "execution_count": null,
   "id": "b14d2701",
   "metadata": {},
   "outputs": [],
   "source": []
  },
  {
   "cell_type": "code",
   "execution_count": 15,
   "id": "458bc3fb",
   "metadata": {
    "scrolled": true
   },
   "outputs": [
    {
     "name": "stdout",
     "output_type": "stream",
     "text": [
      "{'created_at': 1587831701, 'id': 1254022770679320576, 'text': 'É isto, ou vou morrer sem ar ou com o corona https://t.co/O0Y7B3Koj4', 'hashtags': [], 'user': {'id': 804046791348015107, 'name': 'Bi Sex Uau', 'screen_name': 'B_King69', 'verified': False}, 'source': '<a href=\"http://twitter.com/download/android\" rel=\"nofollow\">Twitter for Android</a>', 'quote_count': 0, 'reply_count': 0, 'retweet_count': 0, 'favorite_count': 0, 'is_quote_status': False}\n",
      "\n",
      "{'created_at': 1587831701, 'id': 1254022770746372096, 'text': 'Schöne Runde mit dem Rennrad ✌️\\n#sport #corona https://t.co/Uglj9YJPI1', 'hashtags': ['sport', 'corona'], 'user': {'id': 2242948745, 'name': 'Thomas Krause', 'screen_name': 'tho1965', 'verified': False}, 'source': '<a href=\"http://twitter.com/download/iphone\" rel=\"nofollow\">Twitter for iPhone</a>', 'quote_count': 0, 'reply_count': 0, 'retweet_count': 0, 'favorite_count': 0, 'is_quote_status': False}\n",
      "\n",
      "{'created_at': 1587814212, 'id': 1253949413191344128, 'text': 'India’s war with Corona is ongoing.\\n\\nPlay your part and make sure no one around you starves.\\n\\nYour contribution to defeat hunger is as valuable as defeating Corona.\\n\\n#FeedTheNeedy https://t.co/TUWf2nqPgZ', 'hashtags': ['FeedTheNeedy'], 'user': {'id': 207809313, 'name': 'BJP', 'screen_name': 'BJP4India', 'verified': True}, 'source': '<a href=\"https://mobile.twitter.com\" rel=\"nofollow\">Twitter Web App</a>', 'quote_count': 16, 'reply_count': 101, 'retweet_count': 340, 'favorite_count': 1870, 'is_quote_status': False}\n",
      "\n",
      "{'created_at': 1587831702, 'id': 1254022772575043586, 'text': 'Was sollen 150 Euro Computerzuschuss bringen? Wer wartet die Computer in den 427 NRW Kommunen (Schulträger) wer die Server vor Ort. Lernen lebt von Face to Face . Sonst könnten wir die Kinder betreut ( keine teure Lehrkraft) vor 1 Computer setzen &amp;zentral aus Düsseldorf beschulen', 'hashtags': [], 'user': {'id': 2929344220, 'name': 'Ralf Schmitz', 'screen_name': 'RusticusArat', 'verified': False}, 'source': '<a href=\"https://mobile.twitter.com\" rel=\"nofollow\">Twitter Web App</a>', 'quote_count': 0, 'reply_count': 0, 'retweet_count': 0, 'favorite_count': 0, 'is_quote_status': True, 'quoted_status': {'created_at': 1587830191, 'id': 1254016434658848769, 'text': 'Holt für Kinder die Bazooka raus!  https://t.co/ag8HMEq6Vz', 'hashtags': [], 'user': {'id': 928501014, 'name': 'Marion Horn', 'screen_name': 'marionhorn', 'verified': True}, 'source': '<a href=\"http://twitter.com/download/iphone\" rel=\"nofollow\">Twitter for iPhone</a>', 'quote_count': 0, 'reply_count': 1, 'retweet_count': 0, 'favorite_count': 3, 'is_quote_status': False}}\n",
      "\n",
      "{'created_at': 1587486840, 'id': 1252576316135739392, 'text': '@ozkan_yalim @DurmusYillmaz \\nAçık kapalı görüşler yasak olduğu için sadece telefon görüşlerinde kendisinden haber alabiliyoruz ancak ameliyat olduktan sonraki hafta telefon görüşünde kendisi aramadı.Corona endişesinin olduğu şu günlerde kendisinden haber alabilmek için haftasonu+', 'hashtags': [], 'user': {'id': 1206650133976408064, 'name': 'Büşra Öztaş', 'screen_name': 'schrodingerk42', 'verified': False}, 'source': '<a href=\"http://twitter.com/download/android\" rel=\"nofollow\">Twitter for Android</a>', 'quote_count': 1, 'reply_count': 1, 'retweet_count': 72, 'favorite_count': 83, 'is_quote_status': False}\n",
      "\n",
      "{'created_at': 1587824581, 'id': 1253992905703862272, 'text': 'VIDEO | 25.04.20\\n\\n&gt; Monsta X appears on Yonhap News TV - Idol comeback through Corona... Turning on the Music industry.\\n\\n🔗https://t.co/kW5hsP5DeD\\n\\n#몬스타엑스 #MONSTAX\\n#판타지아엑스 #FANTASIA_X\\n@OfficialMonstaX\\n\\nhttps://t.co/tJN4Iyv1Gh https://t.co/GukJXWjaPW', 'hashtags': ['몬스타엑스', 'MONSTAX', '판타지아엑스', 'FANTASIA_X'], 'user': {'id': 858859031464751104, 'name': 'Monsta X Europe', 'screen_name': 'MonstaXEurope', 'verified': False}, 'source': '<a href=\"https://mobile.twitter.com\" rel=\"nofollow\">Twitter Web App</a>', 'quote_count': 0, 'reply_count': 1, 'retweet_count': 41, 'favorite_count': 108, 'is_quote_status': False}\n",
      "\n",
      "{'created_at': 1587828859, 'id': 1254010851142569984, 'text': \"Morti COL Corona non PER il Corona.\\n\\nCONTE PER OTTENERE APPOGGIO VDL AL GOLPE DI AGOSTO 2019 HA CONSEGNATO (MANI E PIEDI) L'ITALIA ALL'OMS, CIOÈ A BILL GATE, CIOÈ AL BILDEBERG, CIOÈ A SOROS, CIOÈ ALLA TRINITÀ TALMUDICA CHE REGGE IL DEEP STATE GLOBALISTA. https://t.co/AzJPFPGXwY\", 'hashtags': [], 'user': {'id': 761787475, 'name': 'Maurizio Gustinicchi', 'screen_name': 'gustinicchi', 'verified': False}, 'source': '<a href=\"http://twitter.com/download/android\" rel=\"nofollow\">Twitter for Android</a>', 'quote_count': 1, 'reply_count': 5, 'retweet_count': 20, 'favorite_count': 29, 'is_quote_status': False}\n",
      "\n",
      "{'created_at': 1587754266, 'id': 1253697983343816706, 'text': 'Sri ByReddy Rajasekhar Reddy garu,a leader,who is truly dedicated to the betterment of Rayalaseema region (now joined in BJP)expressed his concerns to me ,through a letter,about the district &amp; State administration’s failure in controlling Corona Pandemic.', 'hashtags': [], 'user': {'id': 2719753171, 'name': 'Pawan Kalyan', 'screen_name': 'PawanKalyan', 'verified': True}, 'source': '<a href=\"http://twitter.com/download/iphone\" rel=\"nofollow\">Twitter for iPhone</a>', 'quote_count': 15, 'reply_count': 45, 'retweet_count': 2181, 'favorite_count': 7049, 'is_quote_status': False}\n",
      "\n",
      "{'created_at': 1587831702, 'id': 1254022773598572544, 'text': '@VinceMcMahon @TripleH We hereby honor to announce that we have developed a brand new treatment method using UV rays / Laser Ray that might be used effectively for preventing all mankind from infectious virus.\\n\\n#covid #covid19 #Covid_19 #corona #vascular #endovascular https://t.co/YkVlYtJiGL', 'hashtags': ['covid', 'covid19', 'Covid_19', 'corona', 'vascular', 'endovascular'], 'user': {'id': 1091660129894838272, 'name': 'Milli teknoloji', 'screen_name': 'milliteknoloj', 'verified': False}, 'source': '<a href=\"http://twitter.com/download/iphone\" rel=\"nofollow\">Twitter for iPhone</a>', 'quote_count': 0, 'reply_count': 0, 'retweet_count': 0, 'favorite_count': 0, 'is_quote_status': False}\n",
      "\n",
      "{'created_at': 1587831703, 'id': 1254022776094105602, 'text': 'im making 17 a hr doing nothing 😭😭😭😭 i love this corona pay', 'hashtags': [], 'user': {'id': 375777294, 'name': 'TeéLaneeë🌺', 'screen_name': 'TWD40_', 'verified': False}, 'source': '<a href=\"http://twitter.com/download/iphone\" rel=\"nofollow\">Twitter for iPhone</a>', 'quote_count': 0, 'reply_count': 0, 'retweet_count': 0, 'favorite_count': 0, 'is_quote_status': False}\n",
      "\n"
     ]
    }
   ],
   "source": [
    "idxs = list(tweets.keys())\n",
    "\n",
    "i = 0\n",
    "for idx in idxs:\n",
    "    if i==10: break\n",
    "    print(tweets[idx])\n",
    "    print()\n",
    "    i+=1"
   ]
  },
  {
   "cell_type": "code",
   "execution_count": 16,
   "id": "0804acbf",
   "metadata": {},
   "outputs": [
    {
     "data": {
      "text/plain": [
       "{'created_at': 1587831701,\n",
       " 'id': 1254022770679320576,\n",
       " 'text': 'É isto, ou vou morrer sem ar ou com o corona https://t.co/O0Y7B3Koj4',\n",
       " 'hashtags': [],\n",
       " 'user': {'id': 804046791348015107,\n",
       "  'name': 'Bi Sex Uau',\n",
       "  'screen_name': 'B_King69',\n",
       "  'verified': False},\n",
       " 'source': '<a href=\"http://twitter.com/download/android\" rel=\"nofollow\">Twitter for Android</a>',\n",
       " 'quote_count': 0,\n",
       " 'reply_count': 0,\n",
       " 'retweet_count': 0,\n",
       " 'favorite_count': 0,\n",
       " 'is_quote_status': False}"
      ]
     },
     "execution_count": 16,
     "metadata": {},
     "output_type": "execute_result"
    }
   ],
   "source": [
    "tweets[idxs[0]]"
   ]
  },
  {
   "cell_type": "code",
   "execution_count": 17,
   "id": "9bf08138",
   "metadata": {},
   "outputs": [
    {
     "data": {
      "text/plain": [
       "dict_keys(['created_at', 'id', 'text', 'hashtags', 'user', 'source', 'quote_count', 'reply_count', 'retweet_count', 'favorite_count', 'is_quote_status'])"
      ]
     },
     "execution_count": 17,
     "metadata": {},
     "output_type": "execute_result"
    }
   ],
   "source": [
    "tweets[idxs[1]].keys()"
   ]
  },
  {
   "cell_type": "code",
   "execution_count": null,
   "id": "039c3e0b",
   "metadata": {},
   "outputs": [],
   "source": []
  },
  {
   "cell_type": "code",
   "execution_count": null,
   "id": "bac23743",
   "metadata": {},
   "outputs": [],
   "source": []
  }
 ],
 "metadata": {
  "kernelspec": {
   "display_name": "Python 3 (ipykernel)",
   "language": "python",
   "name": "python3"
  },
  "language_info": {
   "codemirror_mode": {
    "name": "ipython",
    "version": 3
   },
   "file_extension": ".py",
   "mimetype": "text/x-python",
   "name": "python",
   "nbconvert_exporter": "python",
   "pygments_lexer": "ipython3",
   "version": "3.10.9"
  }
 },
 "nbformat": 4,
 "nbformat_minor": 5
}
