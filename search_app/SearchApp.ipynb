{
 "cells": [
  {
   "cell_type": "code",
   "execution_count": 1,
   "id": "2dde986a",
   "metadata": {},
   "outputs": [],
   "source": [
    "from flask import Flask, render_template\n",
    "from flask_cors import CORS\n",
    "\n",
    "import json"
   ]
  },
  {
   "cell_type": "code",
   "execution_count": 2,
   "id": "0c43de9f",
   "metadata": {},
   "outputs": [
    {
     "data": {
      "text/plain": [
       "<flask_cors.extension.CORS at 0x20a9006dd80>"
      ]
     },
     "execution_count": 2,
     "metadata": {},
     "output_type": "execute_result"
    }
   ],
   "source": [
    "app = Flask(__name__)\n",
    "\n",
    "CORS(app)"
   ]
  },
  {
   "cell_type": "code",
   "execution_count": null,
   "id": "7517af20",
   "metadata": {},
   "outputs": [],
   "source": []
  },
  {
   "cell_type": "code",
   "execution_count": 3,
   "id": "b6adebf4",
   "metadata": {},
   "outputs": [],
   "source": [
    "# from flask_mysqldb import MySQL\n",
    "# from flask_pymongo import PyMongo\n",
    "\n",
    "# app.config[\"MYSQL_HOST\"] = \"localhost\"\n",
    "# app.config[\"MYSQL_USER\"] = \"root\"\n",
    "# app.config[\"MYSQL_PASSWORD\"] = \"password\"\n",
    "# app.config[\"MYSQL_DB\"] = \"testdb\"\n",
    "# mysql = MySQL(app)\n",
    "\n",
    "# app.config[\"MONGO_URI\"] = \"mongodb://localhost:27017/testdb\"\n",
    "# mongo = PyMongo(app)\n",
    "\n",
    "\n",
    "# def sql_data():\n",
    "#     with app.app_context():\n",
    "#         cur = mysql.connection.cursor()\n",
    "#         cur.execute(\"\"\"SELECT * FROM test\"\"\")\n",
    "#         rv = cur.fetchall()\n",
    "#         cur.close()\n",
    "#         return rv\n",
    "\n",
    "# s_data = []\n",
    "# for i in sql_data():\n",
    "#     s_data.append(i)\n",
    "#     print(i)\n",
    "\n",
    "\n",
    "# def mongo_data():\n",
    "#     data = mongo.db.test.find()\n",
    "#     return data\n",
    "\n",
    "# m_data = []\n",
    "# for i in mongo_data():\n",
    "#     m_data.append(i)\n",
    "#     print(i)"
   ]
  },
  {
   "cell_type": "code",
   "execution_count": null,
   "id": "de2f1aef",
   "metadata": {
    "scrolled": true
   },
   "outputs": [],
   "source": []
  },
  {
   "cell_type": "code",
   "execution_count": 4,
   "id": "4bc4b1f4",
   "metadata": {},
   "outputs": [],
   "source": [
    "col_keys = [\n",
    "    'id',\n",
    "    'name',\n",
    "    'screen_name',\n",
    "    'location',\n",
    "    'url',\n",
    "    'description',\n",
    "    'verified',\n",
    "    'followers_count',\n",
    "    'friends_count',\n",
    "    'listed_count',\n",
    "    'favourites_count',\n",
    "    'statuses_count',\n",
    "    'created_at'\n",
    "]\n",
    "\n",
    "\n",
    "def make_dict(item):\n",
    "    kv = {}\n",
    "    for i in range(len(col_keys)):\n",
    "        kv[col_keys[i]] = item[i]\n",
    "        \n",
    "    return kv\n",
    "    \n",
    "def make_dict_list(lst):\n",
    "    res = []\n",
    "    \n",
    "    for item in lst:\n",
    "        res.append(make_dict(item))  \n",
    "        \n",
    "    return res\n",
    "\n",
    "def extract_val(key, lst):\n",
    "    res = []\n",
    "    for item in lst:\n",
    "        res.append(item[key])\n",
    "    return res"
   ]
  },
  {
   "cell_type": "code",
   "execution_count": 5,
   "id": "672b2ffa",
   "metadata": {},
   "outputs": [],
   "source": [
    "import mysql.connector as msql\n",
    "\n",
    "def getUserByWord(word):\n",
    "    conn = msql.connect(host='localhost', database='TwitterDB', user='root', password='password')\n",
    "    cursor = conn.cursor()\n",
    "    query = f\"SELECT * FROM users_data WHERE name LIKE '%{word}%' or screen_name LIKE '%{word}%'\"\n",
    "    cursor.execute(query)\n",
    "    a=cursor.fetchall()\n",
    "    cursor.close()\n",
    "    conn.close()\n",
    "    \n",
    "    return make_dict_list(a)\n",
    "\n",
    "def getUserByID(word):\n",
    "    conn = msql.connect(host='localhost', database='TwitterDB', user='root', password='password')\n",
    "    cursor = conn.cursor()\n",
    "    query = f\"SELECT * FROM users_data WHERE id = '{word}'\"\n",
    "    cursor.execute(query)\n",
    "    a=cursor.fetchall()\n",
    "    cursor.close()\n",
    "    conn.close()\n",
    "    return make_dict(a[0]) if len(a)>0 else {}"
   ]
  },
  {
   "cell_type": "code",
   "execution_count": null,
   "id": "50eb7039",
   "metadata": {},
   "outputs": [],
   "source": []
  },
  {
   "cell_type": "code",
   "execution_count": 6,
   "id": "52e613fb",
   "metadata": {},
   "outputs": [],
   "source": [
    "from pymongo import MongoClient\n",
    "\n",
    "drop_field = {'_id': 0}\n",
    "\n",
    "def getTweetbyID(word):\n",
    "    client = MongoClient()\n",
    "    db = client[\"TwitterDB\"]\n",
    "    collection = db[\"Tweets\"]\n",
    "\n",
    "    query = {\"id\": word}\n",
    "    result = collection.find(query, drop_field)\n",
    "    a=[]\n",
    "    for i in result:\n",
    "        a.append(i)\n",
    "        \n",
    "    return a[0] if len(a)>0 else {}\n",
    "\n",
    "def getTweetsbyString(word):\n",
    "    client = MongoClient()\n",
    "    db = client[\"TwitterDB\"]\n",
    "    collection = db[\"Tweets\"]\n",
    "\n",
    "    query = {\"text\": {\"$regex\": word, \"$options\": \"i\"} }\n",
    "    result = collection.find(query, drop_field)\n",
    "    a=[]\n",
    "    for i in result:\n",
    "        a.append(i)\n",
    "        \n",
    "    return a\n",
    "\n",
    "def getTweetsbyHashtag(word):\n",
    "    client = MongoClient()\n",
    "    db = client[\"TwitterDB\"]\n",
    "    collection = db[\"Tweets\"]\n",
    "\n",
    "    query = {\"hashtags\": {\"$regex\": f\"{word}\", \"$options\": \"i\"}}\n",
    "    result = collection.find(query, drop_field)\n",
    "    a=[]\n",
    "    for i in result:\n",
    "        a.append(i)\n",
    "        \n",
    "    return a\n",
    "\n",
    "def getTweetsbyUserIDsList(lst):\n",
    "    client = MongoClient()\n",
    "    db = client[\"TwitterDB\"]\n",
    "    collection = db[\"Tweets\"]\n",
    "\n",
    "    query = {\"user.id\": {\"$in\": lst}}\n",
    "    result = collection.find(query, drop_field)\n",
    "    a=[]\n",
    "    for i in result:\n",
    "        a.append(i)\n",
    "        \n",
    "    return a\n",
    "\n",
    "def getTweetsbyUserID(word):\n",
    "    client = MongoClient()\n",
    "    db = client[\"TwitterDB\"]\n",
    "    collection = db[\"Tweets\"]\n",
    "\n",
    "    query = {\"user.id\": word}\n",
    "    result = collection.find(query, drop_field)\n",
    "    a=[]\n",
    "    for i in result:\n",
    "        a.append(i)\n",
    "        \n",
    "    return a\n",
    "\n",
    "def getRetweetsbyUserID(word):\n",
    "    client = MongoClient()\n",
    "    db = client[\"TwitterDB\"]\n",
    "    collection = db[\"Retweets\"]\n",
    "\n",
    "    query = {\"user.id\": word}\n",
    "    result = collection.find(query, drop_field)\n",
    "    a=[]\n",
    "    for i in result:\n",
    "        a.append(i)\n",
    "        \n",
    "    return a\n",
    "\n",
    "def getRetweetsByOriginalTweetID(word):\n",
    "    client = MongoClient()\n",
    "    db = client[\"TwitterDB\"]\n",
    "    collection = db[\"Retweets\"]\n",
    "\n",
    "    query = {\"retweeted_status.id\": word}\n",
    "    result = collection.find(query, drop_field)\n",
    "    a=[]\n",
    "    for i in result:\n",
    "        a.append(i)\n",
    "        \n",
    "    return a"
   ]
  },
  {
   "cell_type": "code",
   "execution_count": null,
   "id": "2a8db523",
   "metadata": {},
   "outputs": [],
   "source": []
  },
  {
   "cell_type": "code",
   "execution_count": null,
   "id": "b199d78c",
   "metadata": {},
   "outputs": [],
   "source": []
  },
  {
   "cell_type": "code",
   "execution_count": 7,
   "id": "f3d6892b",
   "metadata": {},
   "outputs": [],
   "source": [
    "@app.route(\"/\")\n",
    "def index():\n",
    "    return render_template('index.html')\n",
    "\n",
    "@app.route(\"/string/<word>/<stime>/<etime>\", methods=[\"GET\"])\n",
    "def string_tweet(word, stime, etime):\n",
    "    search_lst = getTweetsbyString(word)\n",
    "    return json.dumps(search_lst)\n",
    "\n",
    "@app.route(\"/hashtag/<word>/<stime>/<etime>\", methods=[\"GET\"])\n",
    "def hashtag_tweet(word, stime, etime):\n",
    "    search_lst = getTweetsbyHashtag(word)\n",
    "    return json.dumps(search_lst)\n",
    "\n",
    "@app.route(\"/user/<word>/<stime>/<etime>\", methods=[\"GET\"])\n",
    "def user_tweet(word, stime, etime):\n",
    "    usr_lst = getUserByWord(word)\n",
    "    id_lst = extract_val('id', usr_lst)\n",
    "    search_lst = getTweetsbyUserIDsList(id_lst)\n",
    "    return json.dumps(search_lst)\n",
    "\n",
    "@app.route(\"/author/<id>\", methods=[\"GET\"])\n",
    "def get_author(id):\n",
    "    print(id)\n",
    "    usr = getUserByID(id)\n",
    "    usr['tweets'] = getTweetsbyUserID(id)\n",
    "    usr['retweets'] = getRetweetsbyUserID(id)\n",
    "    return json.dumps(usr)\n",
    "\n",
    "@app.route(\"/retweet/<id>\", methods=[\"GET\"])\n",
    "def get_retweets(id):\n",
    "    twt = getTweetbyID(id)\n",
    "    print(twt)\n",
    "    twt['retweets'] = getRetweetsByOriginalTweetID(id)\n",
    "    return json.dumps(twt)"
   ]
  },
  {
   "cell_type": "code",
   "execution_count": null,
   "id": "2165078a",
   "metadata": {},
   "outputs": [],
   "source": []
  },
  {
   "cell_type": "code",
   "execution_count": null,
   "id": "30eddb57",
   "metadata": {},
   "outputs": [],
   "source": []
  },
  {
   "cell_type": "code",
   "execution_count": null,
   "id": "c30e5a6f",
   "metadata": {
    "scrolled": true
   },
   "outputs": [
    {
     "name": "stdout",
     "output_type": "stream",
     "text": [
      " * Serving Flask app '__main__'\n",
      " * Debug mode: off\n"
     ]
    },
    {
     "name": "stderr",
     "output_type": "stream",
     "text": [
      "WARNING: This is a development server. Do not use it in a production deployment. Use a production WSGI server instead.\n",
      " * Running on http://127.0.0.1:5000\n",
      "Press CTRL+C to quit\n",
      "127.0.0.1 - - [26/Apr/2023 17:43:26] \"GET / HTTP/1.1\" 200 -\n",
      "127.0.0.1 - - [26/Apr/2023 17:43:26] \"GET /static/script.js HTTP/1.1\" 304 -\n",
      "127.0.0.1 - - [26/Apr/2023 17:43:26] \"GET /static/style.css HTTP/1.1\" 304 -\n",
      "127.0.0.1 - - [26/Apr/2023 17:43:27] \"GET /favicon.ico HTTP/1.1\" 404 -\n",
      "127.0.0.1 - - [26/Apr/2023 17:44:13] \"GET /user/apple/na/na HTTP/1.1\" 200 -\n",
      "127.0.0.1 - - [26/Apr/2023 17:44:13] \"GET /static/verified.png HTTP/1.1\" 304 -\n"
     ]
    },
    {
     "name": "stdout",
     "output_type": "stream",
     "text": [
      "1012349457457795072\n"
     ]
    },
    {
     "name": "stderr",
     "output_type": "stream",
     "text": [
      "127.0.0.1 - - [26/Apr/2023 17:55:20] \"GET /author/1012349457457795072 HTTP/1.1\" 200 -\n",
      "127.0.0.1 - - [26/Apr/2023 17:55:28] \"GET / HTTP/1.1\" 200 -\n",
      "127.0.0.1 - - [26/Apr/2023 17:55:28] \"GET /static/style.css HTTP/1.1\" 304 -\n",
      "127.0.0.1 - - [26/Apr/2023 17:55:28] \"GET /static/script.js HTTP/1.1\" 304 -\n",
      "127.0.0.1 - - [26/Apr/2023 17:55:33] \"GET /string/apple/na/na HTTP/1.1\" 200 -\n",
      "127.0.0.1 - - [26/Apr/2023 17:55:33] \"GET /static/verified.png HTTP/1.1\" 304 -\n",
      "127.0.0.1 - - [26/Apr/2023 17:55:39] \"GET /retweet/1254023653869543426 HTTP/1.1\" 200 -\n"
     ]
    },
    {
     "name": "stdout",
     "output_type": "stream",
     "text": [
      "{'created_at': 1587831912, 'id': '1254023653869543426', 'text': 'Meu celular ya com uma linha verde gigante na tela dps q quebrei e a Apple Store q arruma essas merdas tá fechada por causa do corona', 'hashtags': [], 'user': {'id': '480908581', 'name': 'Gabriela', 'screen_name': 'Sra_Biebeer', 'verified': False, 'friends_count': 346, 'followers_count': 1240, 'description': None, 'created_at': 'Thu Feb 02 02:13:01 +0000 2012'}, 'source': '<a href=\"http://twitter.com/download/iphone\" rel=\"nofollow\">Twitter for iPhone</a>', 'quote_count': 0, 'reply_count': 0, 'retweet_count': 1, 'favorite_count': 0, 'is_quote_status': False}\n"
     ]
    }
   ],
   "source": [
    "if __name__ == \"__main__\":\n",
    "    app.run()"
   ]
  },
  {
   "cell_type": "code",
   "execution_count": null,
   "id": "6bcdc93e",
   "metadata": {},
   "outputs": [],
   "source": []
  }
 ],
 "metadata": {
  "kernelspec": {
   "display_name": "Python 3 (ipykernel)",
   "language": "python",
   "name": "python3"
  },
  "language_info": {
   "codemirror_mode": {
    "name": "ipython",
    "version": 3
   },
   "file_extension": ".py",
   "mimetype": "text/x-python",
   "name": "python",
   "nbconvert_exporter": "python",
   "pygments_lexer": "ipython3",
   "version": "3.10.9"
  }
 },
 "nbformat": 4,
 "nbformat_minor": 5
}
