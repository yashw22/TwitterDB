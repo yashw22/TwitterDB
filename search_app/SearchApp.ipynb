{
 "cells": [
  {
   "cell_type": "code",
   "execution_count": 1,
   "id": "2dde986a",
   "metadata": {},
   "outputs": [],
   "source": [
    "from flask import Flask, render_template\n",
    "from flask_cors import CORS\n",
    "\n",
    "import json\n",
    "import os\n",
    "import time"
   ]
  },
  {
   "cell_type": "code",
   "execution_count": 2,
   "id": "0c43de9f",
   "metadata": {},
   "outputs": [
    {
     "data": {
      "text/plain": [
       "<flask_cors.extension.CORS at 0x21c518aba00>"
      ]
     },
     "execution_count": 2,
     "metadata": {},
     "output_type": "execute_result"
    }
   ],
   "source": [
    "app = Flask(__name__)\n",
    "\n",
    "CORS(app)"
   ]
  },
  {
   "cell_type": "code",
   "execution_count": null,
   "id": "7517af20",
   "metadata": {},
   "outputs": [],
   "source": []
  },
  {
   "cell_type": "code",
   "execution_count": null,
   "id": "fb0ca209",
   "metadata": {},
   "outputs": [],
   "source": []
  },
  {
   "cell_type": "code",
   "execution_count": 3,
   "id": "110807d0",
   "metadata": {},
   "outputs": [],
   "source": [
    "cache_file_name = 'cache.json'\n",
    "max_cache_size = 50\n",
    "\n",
    "def read_cache():\n",
    "    cache = {'string': {}, 'hashtag': {}, 'user': {}, 'author': {}, 'retweet': {} }\n",
    "    \n",
    "    if os.path.exists(cache_file_name):\n",
    "#         try:\n",
    "        with open(cache_file_name, 'r') as file:\n",
    "            cache = json.load(file)\n",
    "#         except:\n",
    "#             cache = {'string': {}, 'hashtag': {}, 'user': {}, 'author': {}, 'retweet': {} }\n",
    "    return cache\n",
    "        \n",
    "def write_cache(cache):\n",
    "    with open(cache_file_name, 'w') as file:  \n",
    "        json.dump(cache, file)\n",
    "\n",
    "def clear_cache():\n",
    "    cache = {'string': {}, 'hashtag': {}, 'user': {}, 'author': {}, 'retweet': {} }\n",
    "    if os.path.exists(cache_file_name):\n",
    "        os.remove(cache_file_name)\n",
    "    return cache\n",
    "\n",
    "def cache_print():\n",
    "    for key in cache.keys():\n",
    "        print(key)\n",
    "        print(list(cache[key].keys()))\n",
    "        print()\n",
    "\n",
    "\n",
    "def get_from_cache(cache_type, word):\n",
    "    if word in cache[cache_type].keys():\n",
    "        return True, cache[cache_type][word]\n",
    "    return False, None\n",
    "\n",
    "def add_to_cache(cache_type, word, value):\n",
    "    if len(cache[cache_type]) >= max_cache_size:\n",
    "        cache[cache_type].pop( next(iter(cache[cache_type])) )\n",
    "    cache[cache_type][word] = value\n",
    "    write_cache(cache)\n",
    "    cache_print()"
   ]
  },
  {
   "cell_type": "code",
   "execution_count": 4,
   "id": "0ca173f1",
   "metadata": {},
   "outputs": [],
   "source": [
    "def time_filter(data, stime, etime, fetch_time):\n",
    "    if stime==\"na\" and etime==\"na\":\n",
    "        return {'data': data, 'fetch_time': fetch_time }\n",
    "    \n",
    "    if stime==\"na\":\n",
    "        res = []\n",
    "        etime = int(etime)/1000\n",
    "        for tweet in data:\n",
    "            if tweet['created_at'] <= etime:\n",
    "                res.append(tweet)\n",
    "        return {'data': res, 'fetch_time': fetch_time }\n",
    "\n",
    "    if etime==\"na\":\n",
    "        res = []\n",
    "        stime = int(stime)/1000\n",
    "        for tweet in data:\n",
    "            if tweet['created_at'] >= stime:\n",
    "                res.append(tweet)\n",
    "        return {'data': res, 'fetch_time': fetch_time }\n",
    "    \n",
    "    res = []\n",
    "    stime, etime = int(stime)/1000, int(etime)/1000\n",
    "    for tweet in data:\n",
    "        if stime <= tweet['created_at'] <= etime:\n",
    "            res.append(tweet)\n",
    "    return {'data': res, 'fetch_time': fetch_time }"
   ]
  },
  {
   "cell_type": "code",
   "execution_count": null,
   "id": "14f2ae98",
   "metadata": {},
   "outputs": [],
   "source": []
  },
  {
   "cell_type": "code",
   "execution_count": null,
   "id": "da3a0b52",
   "metadata": {},
   "outputs": [],
   "source": []
  },
  {
   "cell_type": "code",
   "execution_count": 5,
   "id": "4bc4b1f4",
   "metadata": {},
   "outputs": [],
   "source": [
    "col_keys = [ 'id', 'name', 'screen_name', 'location', 'url', 'description', 'verified','followers_count',\n",
    "            'friends_count', 'listed_count', 'favourites_count', 'statuses_count', 'created_at' ]\n",
    "\n",
    "def make_dict(item):\n",
    "    kv = {}\n",
    "    for i in range(len(col_keys)):\n",
    "        kv[col_keys[i]] = item[i]\n",
    "    return kv\n",
    "    \n",
    "def make_dict_list(lst):\n",
    "    res = []\n",
    "    for item in lst:\n",
    "        res.append(make_dict(item))  \n",
    "    return res\n",
    "\n",
    "def extract_val(key, lst):\n",
    "    res = []\n",
    "    for item in lst:\n",
    "        res.append(item[key])\n",
    "    return res"
   ]
  },
  {
   "cell_type": "code",
   "execution_count": 6,
   "id": "672b2ffa",
   "metadata": {},
   "outputs": [],
   "source": [
    "import mysql.connector as msql\n",
    "\n",
    "def getUserByWord(word):\n",
    "    conn = msql.connect(host='localhost', database='TwitterDB', user='root', password='password')\n",
    "    cursor = conn.cursor()\n",
    "    query = f\"SELECT * FROM users_data WHERE name LIKE '%{word}%' or screen_name LIKE '%{word}%';\"\n",
    "    cursor.execute(query)\n",
    "    a=cursor.fetchall()\n",
    "    cursor.close()\n",
    "    conn.close()\n",
    "    return make_dict_list(a)\n",
    "\n",
    "def getUserByID(word):\n",
    "    conn = msql.connect(host='localhost', database='TwitterDB', user='root', password='password')\n",
    "    cursor = conn.cursor()\n",
    "    query = f\"SELECT * FROM users_data WHERE id = '{word}';\"\n",
    "    cursor.execute(query)\n",
    "    a=cursor.fetchall()\n",
    "    cursor.close()\n",
    "    conn.close()\n",
    "    return make_dict(a[0]) if len(a)>0 else {}"
   ]
  },
  {
   "cell_type": "code",
   "execution_count": 7,
   "id": "52e613fb",
   "metadata": {},
   "outputs": [],
   "source": [
    "from pymongo import MongoClient, DESCENDING\n",
    "\n",
    "drop_field = {'_id': 0}\n",
    "\n",
    "def getTweetbyID(word):\n",
    "    client = MongoClient()\n",
    "    db = client[\"TwitterDB\"]\n",
    "    collection = db[\"Tweets\"]\n",
    "\n",
    "    query = {\"id\": word}\n",
    "    result = collection.find(query, drop_field).sort(\"score\", DESCENDING)\n",
    "    a=[]\n",
    "    for i in result:\n",
    "        a.append(i)\n",
    "        \n",
    "    return a[0] if len(a)>0 else {}\n",
    "\n",
    "def getTweetsbyString(word):\n",
    "    client = MongoClient()\n",
    "    db = client[\"TwitterDB\"]\n",
    "    collection = db[\"Tweets\"]\n",
    "\n",
    "    query = {\"text\": {\"$regex\": word, \"$options\": \"i\"} }\n",
    "    result = collection.find(query, drop_field).sort(\"score\", DESCENDING)\n",
    "    a=[]\n",
    "    for i in result:\n",
    "        a.append(i)  \n",
    "    return a\n",
    "\n",
    "def getTweetsbyHashtag(word):\n",
    "    client = MongoClient()\n",
    "    db = client[\"TwitterDB\"]\n",
    "    collection = db[\"Tweets\"]\n",
    "\n",
    "    query = {\"hashtags\": {\"$regex\": f\"{word}\", \"$options\": \"i\"}}\n",
    "    result = collection.find(query, drop_field).sort(\"score\", DESCENDING)\n",
    "    a=[]\n",
    "    for i in result:\n",
    "        a.append(i) \n",
    "    return a\n",
    "\n",
    "def getTweetsbyUserIDsList(lst):\n",
    "    client = MongoClient()\n",
    "    db = client[\"TwitterDB\"]\n",
    "    collection = db[\"Tweets\"]\n",
    "\n",
    "    query = {\"user.id\": {\"$in\": lst}}\n",
    "    result = collection.find(query, drop_field).sort(\"score\", DESCENDING)\n",
    "    a=[]\n",
    "    for i in result:\n",
    "        a.append(i)\n",
    "    return a\n",
    "\n",
    "def getTweetsbyUserID(word):\n",
    "    client = MongoClient()\n",
    "    db = client[\"TwitterDB\"]\n",
    "    collection = db[\"Tweets\"]\n",
    "\n",
    "    query = {\"user.id\": word}\n",
    "    result = collection.find(query, drop_field).sort(\"score\", DESCENDING)\n",
    "    a=[]\n",
    "    for i in result:\n",
    "        a.append(i)\n",
    "    return a\n",
    "\n",
    "def getRetweetsbyUserID(word):\n",
    "    client = MongoClient()\n",
    "    db = client[\"TwitterDB\"]\n",
    "    collection = db[\"Retweets\"]\n",
    "\n",
    "    query = {\"user.id\": word}\n",
    "    result = collection.find(query, drop_field).sort(\"score\", DESCENDING)\n",
    "    a=[]\n",
    "    for i in result:\n",
    "        a.append(i)\n",
    "    return a\n",
    "\n",
    "def getRetweetsByOriginalTweetID(word):\n",
    "    client = MongoClient()\n",
    "    db = client[\"TwitterDB\"]\n",
    "    collection = db[\"Retweets\"]\n",
    "\n",
    "    query = {\"retweeted_status.id\": word}\n",
    "    result = collection.find(query, drop_field).sort(\"score\", DESCENDING)\n",
    "    a=[]\n",
    "    for i in result:\n",
    "        a.append(i)\n",
    "    return a"
   ]
  },
  {
   "cell_type": "code",
   "execution_count": null,
   "id": "5baa60b0",
   "metadata": {},
   "outputs": [],
   "source": []
  },
  {
   "cell_type": "code",
   "execution_count": null,
   "id": "946a2379",
   "metadata": {},
   "outputs": [],
   "source": []
  },
  {
   "cell_type": "code",
   "execution_count": 8,
   "id": "f3d6892b",
   "metadata": {},
   "outputs": [],
   "source": [
    "@app.route(\"/\")\n",
    "def index():\n",
    "    return render_template('index.html')\n",
    "\n",
    "\n",
    "@app.route(\"/string/<word>/<stime>/<etime>\", methods=[\"GET\"])\n",
    "def string_tweet(word, stime, etime):\n",
    "    start_time = time.time()\n",
    "    inCache, res = get_from_cache('string', word)\n",
    "    if inCache:\n",
    "        print(\"time taken:\", time.time() - start_time)\n",
    "        return json.dumps(time_filter(res, stime, etime, time.time() - start_time))\n",
    "    \n",
    "    res = getTweetsbyString(word)\n",
    "    \n",
    "    add_to_cache('string', word, res)\n",
    "    print(\"time taken:\", time.time() - start_time)\n",
    "    return json.dumps(time_filter(res, stime, etime, time.time() - start_time))\n",
    "\n",
    "@app.route(\"/hashtag/<word>/<stime>/<etime>\", methods=[\"GET\"])\n",
    "def hashtag_tweet(word, stime, etime):\n",
    "    start_time = time.time()\n",
    "    inCache, res = get_from_cache('hashtag', word)\n",
    "    if inCache:\n",
    "        return json.dumps(time_filter(res, stime, etime, time.time() - start_time))\n",
    "        \n",
    "    res = getTweetsbyHashtag(word)\n",
    "    \n",
    "    add_to_cache('hashtag', word, res)\n",
    "    return json.dumps(time_filter(res, stime, etime, time.time() - start_time))\n",
    "\n",
    "@app.route(\"/user/<word>/<stime>/<etime>\", methods=[\"GET\"])\n",
    "def user_tweet(word, stime, etime):\n",
    "    start_time = time.time()\n",
    "    inCache, res = get_from_cache('user', word)\n",
    "    if inCache:\n",
    "        return json.dumps(time_filter(res, stime, etime, time.time() - start_time))\n",
    "        \n",
    "    usr_lst = getUserByWord(word)\n",
    "    id_lst = extract_val('id', usr_lst)\n",
    "    res = getTweetsbyUserIDsList(id_lst)\n",
    "    \n",
    "    add_to_cache('user', word, res)\n",
    "    return json.dumps(time_filter(res, stime, etime, time.time() - start_time))\n",
    "\n",
    "\n",
    "@app.route(\"/author/<id>\", methods=[\"GET\"])\n",
    "def get_author(id):\n",
    "    start_time = time.time()\n",
    "    inCache, res = get_from_cache('author', id)\n",
    "    if inCache:\n",
    "        return json.dumps({'data': res, 'fetch_time': time.time() - start_time })\n",
    "    \n",
    "    res = getUserByID(id)\n",
    "    res['tweets'] = getTweetsbyUserID(id)\n",
    "    res['retweets'] = getRetweetsbyUserID(id)\n",
    "    \n",
    "    add_to_cache('author', id, res)\n",
    "    return json.dumps({'data': res, 'fetch_time': time.time() - start_time })\n",
    "\n",
    "@app.route(\"/retweet/<id>\", methods=[\"GET\"])\n",
    "def get_retweets(id):\n",
    "    start_time = time.time()\n",
    "    inCache, res = get_from_cache('retweet', id)\n",
    "    if inCache:\n",
    "        return json.dumps({'data': res, 'fetch_time': time.time() - start_time })\n",
    "    \n",
    "    res = getTweetbyID(id)\n",
    "    res['retweets'] = getRetweetsByOriginalTweetID(id)\n",
    "    \n",
    "    add_to_cache('retweet', id, res)\n",
    "    return json.dumps({'data': res, 'fetch_time': time.time() - start_time })"
   ]
  },
  {
   "cell_type": "code",
   "execution_count": null,
   "id": "2165078a",
   "metadata": {},
   "outputs": [],
   "source": []
  },
  {
   "cell_type": "code",
   "execution_count": null,
   "id": "54577171",
   "metadata": {},
   "outputs": [],
   "source": []
  },
  {
   "cell_type": "code",
   "execution_count": 9,
   "id": "30eddb57",
   "metadata": {},
   "outputs": [],
   "source": [
    "cache = read_cache()"
   ]
  },
  {
   "cell_type": "code",
   "execution_count": 10,
   "id": "c30e5a6f",
   "metadata": {
    "scrolled": true
   },
   "outputs": [
    {
     "name": "stdout",
     "output_type": "stream",
     "text": [
      " * Serving Flask app '__main__'\n",
      " * Debug mode: off\n"
     ]
    },
    {
     "name": "stderr",
     "output_type": "stream",
     "text": [
      "WARNING: This is a development server. Do not use it in a production deployment. Use a production WSGI server instead.\n",
      " * Running on http://127.0.0.1:5000\n",
      "Press CTRL+C to quit\n",
      "127.0.0.1 - - [28/Apr/2023 03:36:21] \"GET / HTTP/1.1\" 200 -\n",
      "127.0.0.1 - - [28/Apr/2023 03:36:21] \"GET /static/script.js HTTP/1.1\" 304 -\n",
      "127.0.0.1 - - [28/Apr/2023 03:36:21] \"GET /static/style.css HTTP/1.1\" 304 -\n",
      "127.0.0.1 - - [28/Apr/2023 03:36:26] \"GET /string/bjp/na/na HTTP/1.1\" 200 -\n",
      "127.0.0.1 - - [28/Apr/2023 03:36:26] \"GET /static/verified.png HTTP/1.1\" 304 -\n"
     ]
    },
    {
     "name": "stdout",
     "output_type": "stream",
     "text": [
      "string\n",
      "['bjp']\n",
      "\n",
      "hashtag\n",
      "[]\n",
      "\n",
      "user\n",
      "[]\n",
      "\n",
      "author\n",
      "[]\n",
      "\n",
      "retweet\n",
      "[]\n",
      "\n",
      "time taken: 0.3355553150177002\n"
     ]
    },
    {
     "name": "stderr",
     "output_type": "stream",
     "text": [
      "127.0.0.1 - - [28/Apr/2023 03:36:30] \"GET /string/bjp/na/na HTTP/1.1\" 200 -\n"
     ]
    },
    {
     "name": "stdout",
     "output_type": "stream",
     "text": [
      "time taken: 0.0\n"
     ]
    },
    {
     "name": "stderr",
     "output_type": "stream",
     "text": [
      "127.0.0.1 - - [28/Apr/2023 03:36:36] \"GET /string/bjp/na/na HTTP/1.1\" 200 -\n"
     ]
    },
    {
     "name": "stdout",
     "output_type": "stream",
     "text": [
      "time taken: 0.0\n"
     ]
    },
    {
     "name": "stderr",
     "output_type": "stream",
     "text": [
      "127.0.0.1 - - [28/Apr/2023 03:36:37] \"GET /string/bjp/na/na HTTP/1.1\" 200 -\n"
     ]
    },
    {
     "name": "stdout",
     "output_type": "stream",
     "text": [
      "time taken: 0.0\n"
     ]
    },
    {
     "name": "stderr",
     "output_type": "stream",
     "text": [
      "127.0.0.1 - - [28/Apr/2023 03:36:39] \"GET /string/bjp/na/na HTTP/1.1\" 200 -\n"
     ]
    },
    {
     "name": "stdout",
     "output_type": "stream",
     "text": [
      "time taken: 0.0\n"
     ]
    },
    {
     "name": "stderr",
     "output_type": "stream",
     "text": [
      "127.0.0.1 - - [28/Apr/2023 03:36:39] \"GET /string/bjp/na/na HTTP/1.1\" 200 -\n"
     ]
    },
    {
     "name": "stdout",
     "output_type": "stream",
     "text": [
      "time taken: 0.0\n"
     ]
    },
    {
     "name": "stderr",
     "output_type": "stream",
     "text": [
      "127.0.0.1 - - [28/Apr/2023 03:36:41] \"GET /string/bjp/na/na HTTP/1.1\" 200 -\n"
     ]
    },
    {
     "name": "stdout",
     "output_type": "stream",
     "text": [
      "time taken: 0.0\n"
     ]
    },
    {
     "name": "stderr",
     "output_type": "stream",
     "text": [
      "127.0.0.1 - - [28/Apr/2023 03:36:41] \"GET /string/bjp/na/na HTTP/1.1\" 200 -\n"
     ]
    },
    {
     "name": "stdout",
     "output_type": "stream",
     "text": [
      "time taken: 0.0\n"
     ]
    },
    {
     "name": "stderr",
     "output_type": "stream",
     "text": [
      "127.0.0.1 - - [28/Apr/2023 03:36:43] \"GET /string/bjp/na/na HTTP/1.1\" 200 -\n"
     ]
    },
    {
     "name": "stdout",
     "output_type": "stream",
     "text": [
      "time taken: 0.0\n"
     ]
    },
    {
     "name": "stderr",
     "output_type": "stream",
     "text": [
      "127.0.0.1 - - [28/Apr/2023 03:36:43] \"GET /string/bjp/na/na HTTP/1.1\" 200 -\n"
     ]
    },
    {
     "name": "stdout",
     "output_type": "stream",
     "text": [
      "time taken: 0.0\n"
     ]
    },
    {
     "name": "stderr",
     "output_type": "stream",
     "text": [
      "127.0.0.1 - - [28/Apr/2023 03:36:45] \"GET /string/bjp/na/na HTTP/1.1\" 200 -\n"
     ]
    },
    {
     "name": "stdout",
     "output_type": "stream",
     "text": [
      "time taken: 0.0\n"
     ]
    },
    {
     "name": "stderr",
     "output_type": "stream",
     "text": [
      "127.0.0.1 - - [28/Apr/2023 03:36:45] \"GET /string/bjp/na/na HTTP/1.1\" 200 -\n"
     ]
    },
    {
     "name": "stdout",
     "output_type": "stream",
     "text": [
      "time taken: 0.0\n"
     ]
    },
    {
     "name": "stderr",
     "output_type": "stream",
     "text": [
      "127.0.0.1 - - [28/Apr/2023 03:36:56] \"GET /user/gucci/na/na HTTP/1.1\" 200 -\n"
     ]
    },
    {
     "name": "stdout",
     "output_type": "stream",
     "text": [
      "string\n",
      "['bjp']\n",
      "\n",
      "hashtag\n",
      "[]\n",
      "\n",
      "user\n",
      "['gucci']\n",
      "\n",
      "author\n",
      "[]\n",
      "\n",
      "retweet\n",
      "[]\n",
      "\n"
     ]
    },
    {
     "name": "stderr",
     "output_type": "stream",
     "text": [
      "127.0.0.1 - - [28/Apr/2023 03:37:09] \"GET /user/gucci/na/na HTTP/1.1\" 200 -\n",
      "127.0.0.1 - - [28/Apr/2023 03:37:11] \"GET /user/gucci/na/na HTTP/1.1\" 200 -\n",
      "127.0.0.1 - - [28/Apr/2023 03:37:12] \"GET /user/gucci/na/na HTTP/1.1\" 200 -\n",
      "127.0.0.1 - - [28/Apr/2023 03:37:21] \"GET /string/bjp/na/na HTTP/1.1\" 200 -\n"
     ]
    },
    {
     "name": "stdout",
     "output_type": "stream",
     "text": [
      "time taken: 0.0\n"
     ]
    },
    {
     "name": "stderr",
     "output_type": "stream",
     "text": [
      "127.0.0.1 - - [28/Apr/2023 03:37:29] \"GET /user/gucci/na/na HTTP/1.1\" 200 -\n",
      "127.0.0.1 - - [28/Apr/2023 03:37:42] \"GET /string/football/na/na HTTP/1.1\" 200 -\n"
     ]
    },
    {
     "name": "stdout",
     "output_type": "stream",
     "text": [
      "string\n",
      "['bjp', 'football']\n",
      "\n",
      "hashtag\n",
      "[]\n",
      "\n",
      "user\n",
      "['gucci']\n",
      "\n",
      "author\n",
      "[]\n",
      "\n",
      "retweet\n",
      "[]\n",
      "\n",
      "time taken: 0.32343006134033203\n"
     ]
    },
    {
     "name": "stderr",
     "output_type": "stream",
     "text": [
      "127.0.0.1 - - [28/Apr/2023 03:37:45] \"GET /string/football/na/na HTTP/1.1\" 200 -\n"
     ]
    },
    {
     "name": "stdout",
     "output_type": "stream",
     "text": [
      "time taken: 0.0\n"
     ]
    },
    {
     "name": "stderr",
     "output_type": "stream",
     "text": [
      "127.0.0.1 - - [28/Apr/2023 03:38:20] \"GET /string/congress/na/1587787200000 HTTP/1.1\" 200 -\n"
     ]
    },
    {
     "name": "stdout",
     "output_type": "stream",
     "text": [
      "string\n",
      "['bjp', 'football', 'congress']\n",
      "\n",
      "hashtag\n",
      "[]\n",
      "\n",
      "user\n",
      "['gucci']\n",
      "\n",
      "author\n",
      "[]\n",
      "\n",
      "retweet\n",
      "[]\n",
      "\n",
      "time taken: 0.3721885681152344\n"
     ]
    },
    {
     "name": "stderr",
     "output_type": "stream",
     "text": [
      "127.0.0.1 - - [28/Apr/2023 03:38:45] \"GET /string/congress/1587787200000/na HTTP/1.1\" 200 -\n"
     ]
    },
    {
     "name": "stdout",
     "output_type": "stream",
     "text": [
      "time taken: 0.0\n"
     ]
    },
    {
     "name": "stderr",
     "output_type": "stream",
     "text": [
      "127.0.0.1 - - [28/Apr/2023 03:39:18] \"GET /author/31109111 HTTP/1.1\" 200 -\n"
     ]
    },
    {
     "name": "stdout",
     "output_type": "stream",
     "text": [
      "string\n",
      "['bjp', 'football', 'congress']\n",
      "\n",
      "hashtag\n",
      "[]\n",
      "\n",
      "user\n",
      "['gucci']\n",
      "\n",
      "author\n",
      "['31109111']\n",
      "\n",
      "retweet\n",
      "[]\n",
      "\n"
     ]
    },
    {
     "name": "stderr",
     "output_type": "stream",
     "text": [
      "127.0.0.1 - - [28/Apr/2023 03:39:49] \"GET /string/congress/1587787200000/na HTTP/1.1\" 200 -\n"
     ]
    },
    {
     "name": "stdout",
     "output_type": "stream",
     "text": [
      "time taken: 0.0\n"
     ]
    },
    {
     "name": "stderr",
     "output_type": "stream",
     "text": [
      "127.0.0.1 - - [28/Apr/2023 03:39:53] \"GET /author/31109111 HTTP/1.1\" 200 -\n",
      "127.0.0.1 - - [28/Apr/2023 03:39:56] \"GET /string/congress/1587787200000/na HTTP/1.1\" 200 -\n"
     ]
    },
    {
     "name": "stdout",
     "output_type": "stream",
     "text": [
      "time taken: 0.0\n"
     ]
    },
    {
     "name": "stderr",
     "output_type": "stream",
     "text": [
      "127.0.0.1 - - [28/Apr/2023 03:39:59] \"GET /retweet/1253977550830723073 HTTP/1.1\" 200 -\n"
     ]
    },
    {
     "name": "stdout",
     "output_type": "stream",
     "text": [
      "string\n",
      "['bjp', 'football', 'congress']\n",
      "\n",
      "hashtag\n",
      "[]\n",
      "\n",
      "user\n",
      "['gucci']\n",
      "\n",
      "author\n",
      "['31109111']\n",
      "\n",
      "retweet\n",
      "['1253977550830723073']\n",
      "\n"
     ]
    },
    {
     "name": "stderr",
     "output_type": "stream",
     "text": [
      "127.0.0.1 - - [28/Apr/2023 03:40:08] \"GET /string/congress/1587787200000/na HTTP/1.1\" 200 -\n"
     ]
    },
    {
     "name": "stdout",
     "output_type": "stream",
     "text": [
      "time taken: 0.0\n"
     ]
    },
    {
     "name": "stderr",
     "output_type": "stream",
     "text": [
      "127.0.0.1 - - [28/Apr/2023 03:40:11] \"GET /retweet/1253977550830723073 HTTP/1.1\" 200 -\n",
      "127.0.0.1 - - [28/Apr/2023 03:40:54] \"GET /hashtag/brazil/1587787200000/na HTTP/1.1\" 200 -\n"
     ]
    },
    {
     "name": "stdout",
     "output_type": "stream",
     "text": [
      "string\n",
      "['bjp', 'football', 'congress']\n",
      "\n",
      "hashtag\n",
      "['brazil']\n",
      "\n",
      "user\n",
      "['gucci']\n",
      "\n",
      "author\n",
      "['31109111']\n",
      "\n",
      "retweet\n",
      "['1253977550830723073']\n",
      "\n"
     ]
    }
   ],
   "source": [
    "if __name__ == \"__main__\":\n",
    "    app.run()"
   ]
  }
 ],
 "metadata": {
  "kernelspec": {
   "display_name": "Python 3 (ipykernel)",
   "language": "python",
   "name": "python3"
  },
  "language_info": {
   "codemirror_mode": {
    "name": "ipython",
    "version": 3
   },
   "file_extension": ".py",
   "mimetype": "text/x-python",
   "name": "python",
   "nbconvert_exporter": "python",
   "pygments_lexer": "ipython3",
   "version": "3.10.9"
  }
 },
 "nbformat": 4,
 "nbformat_minor": 5
}
