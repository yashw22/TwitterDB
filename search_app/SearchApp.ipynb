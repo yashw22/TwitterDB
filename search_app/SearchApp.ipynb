{
 "cells": [
  {
   "cell_type": "code",
   "execution_count": 3,
   "id": "2dde986a",
   "metadata": {},
   "outputs": [],
   "source": [
    "from flask import Flask, render_template\n",
    "from flask_mysqldb import MySQL\n",
    "from flask_pymongo import PyMongo\n",
    "\n",
    "import requests\n",
    "import json"
   ]
  },
  {
   "cell_type": "code",
   "execution_count": 4,
   "id": "0c43de9f",
   "metadata": {},
   "outputs": [],
   "source": [
    "app = Flask(__name__)\n",
    "\n",
    "app.config[\"MYSQL_HOST\"] = \"localhost\"\n",
    "app.config[\"MYSQL_USER\"] = \"root\"\n",
    "app.config[\"MYSQL_PASSWORD\"] = \"password\"\n",
    "app.config[\"MYSQL_DB\"] = \"testdb\"\n",
    "mysql = MySQL(app)\n",
    "\n",
    "app.config[\"MONGO_URI\"] = \"mongodb://localhost:27017/testdb\"\n",
    "mongo = PyMongo(app)"
   ]
  },
  {
   "cell_type": "code",
   "execution_count": null,
   "id": "7517af20",
   "metadata": {},
   "outputs": [],
   "source": []
  },
  {
   "cell_type": "code",
   "execution_count": 5,
   "id": "b6adebf4",
   "metadata": {},
   "outputs": [],
   "source": [
    "def sql_data():\n",
    "    with app.app_context():\n",
    "        cur = mysql.connection.cursor()\n",
    "        cur.execute(\"\"\"SELECT * FROM test\"\"\")\n",
    "        rv = cur.fetchall()\n",
    "        cur.close()\n",
    "        return rv"
   ]
  },
  {
   "cell_type": "code",
   "execution_count": 7,
   "id": "de2f1aef",
   "metadata": {
    "scrolled": true
   },
   "outputs": [
    {
     "name": "stdout",
     "output_type": "stream",
     "text": [
      "('Inger Kearney', 'argelia.hair780@gmail.com', 'Richmond', 'Benin')\n",
      "('Mathilda Horn', 'dung_bonilla@knights.com', 'York', 'Jordan')\n",
      "('Jeromy Herzog', 'zula6980@throws.com', 'Sterling Heights', 'Uruguay')\n",
      "('Reena Spears', 'neida8227@writers.com', 'Scottsdale', 'Libya')\n",
      "('Liane Coleman', 'wanetta-laws33577@gmail.com', 'Birmingham', 'Malta')\n",
      "('Jo Henley', 'salvatorehenley78518@consolidated.com', 'Anaheim', 'Latvia')\n",
      "('Carter Holcomb', 'marion7@recipe.com', 'Pueblo', 'Panama')\n",
      "('Addie Singletary', 'latesha9@gmail.com', 'New York', 'Jamaica')\n",
      "('Ilona Mcgrew', 'simona_prince970@gmail.com', 'New York', 'Belize')\n",
      "('Jovan Apodaca', 'coreen1115@yahoo.com', 'Yonkers', 'Benin')\n"
     ]
    }
   ],
   "source": [
    "for i in sql_data():\n",
    "    print(i)"
   ]
  },
  {
   "cell_type": "code",
   "execution_count": null,
   "id": "52e613fb",
   "metadata": {},
   "outputs": [],
   "source": []
  },
  {
   "cell_type": "code",
   "execution_count": 8,
   "id": "2a8db523",
   "metadata": {},
   "outputs": [],
   "source": [
    "def mongo_data():\n",
    "    data = mongo.db.test.find()\n",
    "    return data"
   ]
  },
  {
   "cell_type": "code",
   "execution_count": 9,
   "id": "b317a885",
   "metadata": {},
   "outputs": [
    {
     "name": "stdout",
     "output_type": "stream",
     "text": [
      "{'_id': 8752, 'title': 'Divine Comedy', 'author': 'Dante', 'copies': 1}\n",
      "{'_id': 7000, 'title': 'The Odyssey', 'author': 'Homer', 'copies': 10}\n",
      "{'_id': 7020, 'title': 'Iliad', 'author': 'Homer', 'copies': 10}\n",
      "{'_id': 8645, 'title': 'Eclogues', 'author': 'Dante', 'copies': 2}\n",
      "{'_id': 8751, 'title': 'The Banquet', 'author': 'Dante', 'copies': 2}\n"
     ]
    }
   ],
   "source": [
    "for i in mongo_data():\n",
    "    print(i)"
   ]
  },
  {
   "cell_type": "code",
   "execution_count": null,
   "id": "7a2e2edd",
   "metadata": {},
   "outputs": [],
   "source": []
  },
  {
   "cell_type": "code",
   "execution_count": 10,
   "id": "18e7c0af",
   "metadata": {},
   "outputs": [],
   "source": [
    "@app.route(\"/\")\n",
    "def index():\n",
    "    return render_template('index.html')"
   ]
  },
  {
   "cell_type": "code",
   "execution_count": null,
   "id": "8de8ff98",
   "metadata": {},
   "outputs": [],
   "source": []
  },
  {
   "cell_type": "code",
   "execution_count": 11,
   "id": "c30e5a6f",
   "metadata": {
    "scrolled": true
   },
   "outputs": [
    {
     "name": "stdout",
     "output_type": "stream",
     "text": [
      " * Serving Flask app '__main__'\n",
      " * Debug mode: off\n"
     ]
    },
    {
     "name": "stderr",
     "output_type": "stream",
     "text": [
      "WARNING: This is a development server. Do not use it in a production deployment. Use a production WSGI server instead.\n",
      " * Running on http://127.0.0.1:5000\n",
      "Press CTRL+C to quit\n",
      "127.0.0.1 - - [21/Apr/2023 22:12:25] \"GET / HTTP/1.1\" 200 -\n",
      "127.0.0.1 - - [21/Apr/2023 22:12:25] \"GET /favicon.ico HTTP/1.1\" 404 -\n"
     ]
    }
   ],
   "source": [
    "if __name__ == \"__main__\":\n",
    "    app.run()"
   ]
  },
  {
   "cell_type": "code",
   "execution_count": null,
   "id": "6bcdc93e",
   "metadata": {},
   "outputs": [],
   "source": []
  }
 ],
 "metadata": {
  "kernelspec": {
   "display_name": "Python 3 (ipykernel)",
   "language": "python",
   "name": "python3"
  },
  "language_info": {
   "codemirror_mode": {
    "name": "ipython",
    "version": 3
   },
   "file_extension": ".py",
   "mimetype": "text/x-python",
   "name": "python",
   "nbconvert_exporter": "python",
   "pygments_lexer": "ipython3",
   "version": "3.10.9"
  }
 },
 "nbformat": 4,
 "nbformat_minor": 5
}
